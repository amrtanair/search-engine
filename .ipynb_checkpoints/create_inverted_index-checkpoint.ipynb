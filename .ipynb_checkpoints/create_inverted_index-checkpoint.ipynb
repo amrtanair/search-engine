{
 "cells": [
  {
   "cell_type": "code",
   "execution_count": 20,
   "metadata": {},
   "outputs": [],
   "source": [
    "import requests\n",
    "import re\n",
    "from bs4 import BeautifulSoup\n",
    "from nltk.corpus import stopwords \n",
    "from nltk.tokenize import word_tokenize\n",
    "stop_words = set(stopwords.words('english')) "
   ]
  },
  {
   "cell_type": "code",
   "execution_count": 21,
   "metadata": {},
   "outputs": [
    {
     "name": "stdout",
     "output_type": "stream",
     "text": [
      "91391\n"
     ]
    }
   ],
   "source": [
    "request = requests.get('https://harrypotter.fandom.com/wiki/Harry_Potter_and_the_Philosopher%27s_Stone_(film)')\n",
    "\n",
    "soup = BeautifulSoup(request.text, 'html.parser')\n",
    "\n",
    "for script in soup([\"script\", \"style\", \"\\n\"]):\n",
    "    script.decompose()\n",
    "text = soup.get_text()"
   ]
  },
  {
   "cell_type": "code",
   "execution_count": 25,
   "metadata": {},
   "outputs": [],
   "source": [
    "word_tokens = word_tokenize(text)\n",
    "title=re.sub('[^A-Za-z0-9 ]+', \"\", soup.title.text)\n",
    "\n",
    "tokens = [] # index for hash\n",
    "document = [] # text of page in array format\n",
    "\n",
    "for w in word_tokens: \n",
    "    if w.isalpha(): \n",
    "        document.append(w)\n",
    "        if w.lower() not in stop_words:\n",
    "            tokens.append(w.lower())"
   ]
  },
  {
   "cell_type": "code",
   "execution_count": 26,
   "metadata": {},
   "outputs": [],
   "source": [
    "inverted_index = {}\n",
    "\n",
    "for i,elem in enumerate(document):\n",
    "    if elem not in tokens:\n",
    "        continue\n",
    "    else:\n",
    "        if elem not in inverted_index.keys():\n",
    "            inverted_index[elem]=[i]\n",
    "        else:\n",
    "            inverted_index[elem].append(i)"
   ]
  },
  {
   "cell_type": "code",
   "execution_count": 27,
   "metadata": {},
   "outputs": [],
   "source": [
    "webpages= ['https://harrypotter.fandom.com/wiki/Harry_Potter_and_the_Philosopher%27s_Stone', \n",
    "           'https://harrypotter.fandom.com/wiki/Harry_Potter_and_the_Chamber_of_Secrets', \n",
    "           'https://harrypotter.fandom.com/wiki/Harry_Potter_and_the_Prisoner_of_Azkaban', \n",
    "           'https://harrypotter.fandom.com/wiki/Harry_Potter_and_the_Goblet_of_Fire']"
   ]
  },
  {
   "cell_type": "code",
   "execution_count": null,
   "metadata": {},
   "outputs": [],
   "source": []
  }
 ],
 "metadata": {
  "kernelspec": {
   "display_name": "Python 3",
   "language": "python",
   "name": "python3"
  },
  "language_info": {
   "codemirror_mode": {
    "name": "ipython",
    "version": 3
   },
   "file_extension": ".py",
   "mimetype": "text/x-python",
   "name": "python",
   "nbconvert_exporter": "python",
   "pygments_lexer": "ipython3",
   "version": "3.6.9"
  }
 },
 "nbformat": 4,
 "nbformat_minor": 2
}
